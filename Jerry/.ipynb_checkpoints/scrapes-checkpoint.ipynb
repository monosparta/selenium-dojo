{
 "cells": [
  {
   "cell_type": "code",
   "execution_count": 1,
   "metadata": {},
   "outputs": [],
   "source": [
    "# 載入需要的套件\n",
    "from selenium import webdriver\n",
    "import json\n",
    "import requests\n",
    "import fpdf\n",
    "\n",
    "# 開啟瀏覽器視窗(Chrome)\n",
    "# 方法一：執行前需開啟chromedriver.exe且與執行檔在同一個工作目錄\n",
    "# driver = webdriver.Chrome('./chromedriver')\n",
    "option = webdriver.ChromeOptions();\n",
    "option.add_argument(\"--headless\");\n",
    "driver = webdriver.Chrome(options=option, executable_path='./chromedriver');"
   ]
  },
  {
   "cell_type": "code",
   "execution_count": 2,
   "metadata": {},
   "outputs": [
    {
     "name": "stdout",
     "output_type": "stream",
     "text": [
      "{'url': 'https://monospace.kktix.cc/events/f0f84372', 'published': '2021-03-15T09:00:00.000+08:00', 'title': '0xFE 測試專用', 'summary': '自以不人向智心故雖業色當所下如頭音懷府友力引之', 'content': '時間：2021/03/15 09:00(+0800)~18:00\\n地點：', 'author': {'name': 'Monospace 共同工作空間', 'uri': 'https://www.facebook.com/monospace.tw'}}\n",
      "fucking url i want: \n",
      "https://monospace.kktix.cc/events/f0f84372\n"
     ]
    }
   ],
   "source": [
    "driver.get(\"http://monospace.kktix.cc/events.json\")\n",
    "driver.save_screenshot('./image_screen1.png')\n",
    "pre = driver.find_element_by_tag_name(\"pre\").text\n",
    "# element = driver.find_element_by_tag(“title”).text\n",
    "data = json.loads(pre)\n",
    "target_url = 0\n",
    "for entry in data.get('entry'):\n",
    "    if (entry.get('title')).find('0xFE') > -1:\n",
    "        print(entry)\n",
    "        print('fucking url i want: ')\n",
    "        target_url = entry.get('url')\n",
    "        print(target_url)"
   ]
  },
  {
   "cell_type": "code",
   "execution_count": 3,
   "metadata": {},
   "outputs": [
    {
     "name": "stdout",
     "output_type": "stream",
     "text": [
      "欲抓取頁面:\n",
      "https://monospace.kktix.cc/events/f0f84372\n",
      "Image: \n",
      "https://t.kfs.io/upload_images/126149/shutterstock_497853664_large.jpg\n",
      "Title: \n",
      "0xFE 測試專用\n",
      "Context:\n",
      "國好各上政\n",
      "拿先影樹我人四月想想處後學，顯力的單時，熱覺位人可年如會孩清些農推長的：史的在高臺期。行施助股人府活結主他事更落？放合他醫旅可觀無管利組眼是流花他石然斷響又，力臺的對社不現性創國都論式人工心她模要久是式中城那望會們子是體活想、的市年資的常身：人年認麼？的明在說自起女。遠是他！議府時奇式度大。間智社出紅精生土開社答專前方，車麗小字，她小沒球後長己直年好：眼當灣能新展銷就畫有世的選，不安觀。變面管的觀線造組頭多形家變保大長話程對種過大。保解消於養前回需之待可地影點想爾是覺少是許嚴；電未出特保？白所國的日過會著推西……氣列家證技工。我育地上的代不日民向。\n",
      "後門們飯濟開文港間目大隊鄉自怎，有一語民？與世美住，所溫黑文給自獎言表們密一子小心老，即機場臺可頭；人見再手開後化城史廣孩舉；樣得每愛。\n",
      "出變開萬名……事致輕常而地結、和裡分前告精管面民，城之我上育如片城評戲地還一小年世香，羅是一運可全運及片一長今入親基人元，層甚美多。\n",
      "<p data-code=\"TU9OT1NQQVJUQQ==\">代碼尋寶</p>\n"
     ]
    }
   ],
   "source": [
    "## Get page url\n",
    "driver2 = webdriver.Chrome( executable_path='./chromedriver')\n",
    "print('欲抓取頁面:')\n",
    "print(target_url)\n",
    "driver2.get(target_url) ## driver2: WebDriver object\n",
    "driver2.save_screenshot('./image_screen2.png')\n",
    "\n",
    "## Get Image\n",
    "html_img = driver2.find_element_by_xpath('//div[@class=\"og-banner\"]/img')\n",
    "html_img = html_img.get_attribute('src')\n",
    "response = requests.get(html_img) \n",
    "newname = 'image_content.jpg'\n",
    "with open(newname,'wb') as file:\n",
    "    file.write(response.content)\n",
    "    \n",
    "# html1 = driver2.find_element_by_xpath('//img[@src]')\n",
    "# html1 = driver2.find_element_by_tag_name('img') ## driver1: Webelement object\n",
    "# pre2 = html1.get(\"img\")\n",
    "print('Image: ')\n",
    "print(html_img)\n",
    "\n",
    "## Get title\n",
    "html_title = driver2.find_element_by_tag_name('h1')\n",
    "print('Title: ')\n",
    "print(html_title.text)\n",
    "\n",
    "## Get context\n",
    "html_context = driver2.find_element_by_xpath('//div[@class=\"description\"]')\n",
    "print('Context:')\n",
    "print(html_context.text)"
   ]
  },
  {
   "cell_type": "code",
   "execution_count": 4,
   "metadata": {},
   "outputs": [
    {
     "name": "stdout",
     "output_type": "stream",
     "text": [
      "Code: \n",
      "<p data-code=\"TU9OT1NQQVJUQQ==\">代碼尋寶</p>\n",
      "b'MONOSPARTA'\n",
      "MONOSPARTA\n"
     ]
    }
   ],
   "source": [
    "## get code\n",
    "html_code = driver2.find_element_by_xpath('//div[@class=\"description\"]/pre').text\n",
    "print('Code: ')\n",
    "print(html_code)\n",
    "start = False\n",
    "codeList = []\n",
    "for char in html_code:\n",
    "    if(start):\n",
    "        codeList.append(char)\n",
    "    if(char == '\"'):\n",
    "        start = True if (start == False) else False\n",
    "codeList = codeList[:-1]\n",
    "\n",
    "## decode\n",
    "import base64\n",
    "codeString = ''\n",
    "for char in codeList:\n",
    "    codeString = codeString + str(char)\n",
    "\n",
    "codeString = base64.b64decode(codeString)\n",
    "print(codeString)\n",
    "codeString = codeString.decode(\"UTF-8\")\n",
    "print(codeString)"
   ]
  },
  {
   "cell_type": "code",
   "execution_count": 5,
   "metadata": {},
   "outputs": [
    {
     "name": "stdout",
     "output_type": "stream",
     "text": [
      "next_button OK!\n",
      "not for now OK!\n",
      "plus_button OK!\n",
      "read_button OK!\n",
      "next_button OK!\n",
      "not for now OK!\n",
      "finish\n",
      "read_button OK!\n",
      "next_button OK!\n"
     ]
    }
   ],
   "source": [
    "## button\n",
    "import time\n",
    "# click radio button\n",
    "\n",
    "## next button\n",
    "html_next_button = driver2.find_elements_by_xpath(\"//a[@class='btn-point']\")[1].click()\n",
    "time.sleep(1)\n",
    "print('next_button OK!')\n",
    "\n",
    "## Not for now\n",
    "html_button2 = driver2.find_elements_by_xpath(\"//button[@class='btn btn-default pull-right ng-binding']\")[0].click()\n",
    "time.sleep(1)\n",
    "print('not for now OK!')\n",
    "driver2.save_screenshot('./image_screen3.png')\n",
    "\n",
    "## plus button\n",
    "html_plus_button = driver2.find_element_by_xpath(\"//button[@class = 'btn-default plus']\").click()\n",
    "time.sleep(1)\n",
    "print('plus_button OK!')\n",
    "\n",
    "## read button\n",
    "html_read_button = driver2.find_element_by_xpath(\"//input[@id ='person_agree_terms']\").click()\n",
    "time.sleep(1)\n",
    "print('read_button OK!')\n",
    "\n",
    "## next button\n",
    "html_next_button = driver2.find_elements_by_xpath(\"//button[@class='btn btn-primary btn-lg ng-isolate-scope']\")[0].click()\n",
    "time.sleep(3)\n",
    "print('next_button OK!')\n",
    "\n",
    "## Not for now\n",
    "html_button2 = driver2.find_elements_by_xpath(\"//button[@class='btn btn-default pull-right ng-binding']\")[0].click()\n",
    "time.sleep(1)\n",
    "print('not for now OK!')\n",
    "driver2.save_screenshot('./image_screen4.png')\n",
    "\n",
    "## Open the Json\n",
    "with open('./description.json') as f:\n",
    "    data = json.load(f)\n",
    "\n",
    "## name\n",
    "driver2.find_element_by_name(\"contact[field_text_701843]\").click()\n",
    "time.sleep(1)\n",
    "driver2.find_element_by_name(\n",
    "    \"contact[field_text_701843]\").send_keys(data['name'])\n",
    "# time.sleep(1)\n",
    "## email\n",
    "driver2.find_element_by_name(\"contact[field_email_701844]\").click()\n",
    "driver2.find_element_by_name(\"contact[field_email_701844]\").send_keys(data['email'])\n",
    "# time.sleep(1)\n",
    "## phone\n",
    "driver2.find_element_by_name(\"contact[field_text_701845]\").click()\n",
    "driver2.find_element_by_name(\n",
    "    \"contact[field_text_701845]\").send_keys(data['phone'])\n",
    "# time.sleep(1)\n",
    "## code\n",
    "driver2.find_element_by_name(\"contact[field_text_701846]\").click()\n",
    "driver2.find_element_by_name(\"contact[field_text_701846]\").send_keys(codeString)\n",
    "time.sleep(1)\n",
    "print('finish')\n",
    "\n",
    "## read button\n",
    "html_read_button = driver2.find_element_by_xpath(\"//input[@id ='person_agree_terms']\").click()\n",
    "time.sleep(1)\n",
    "print('read_button OK!')\n",
    "\n",
    "## Next button\n",
    "html_next_button = driver2.find_element_by_xpath(\"//a[@class='btn btn-primary btn-lg ng-binding ng-isolate-scope']\").click()\n",
    "time.sleep(1)\n",
    "print('next_button OK!')\n",
    "time.sleep(1)\n",
    "driver2.save_screenshot('./image_screen5.png')\n",
    "\n",
    "## Get Ticket Image\n",
    "time.sleep(3)\n",
    "html_image = driver2.find_element_by_xpath(\"//div[@class='qr-code ng-scope']/img\")\n",
    "html_image = html_image.get_attribute('src')\n",
    "response = requests.get(html_image) \n",
    "newname = 'image_ticket.jpg'\n",
    "with open(newname,'wb') as file:\n",
    "    file.write(response.content)\n",
    "\n",
    "\n"
   ]
  }
 ],
 "metadata": {
  "kernelspec": {
   "display_name": "Python 3",
   "language": "python",
   "name": "python3"
  },
  "language_info": {
   "codemirror_mode": {
    "name": "ipython",
    "version": 3
   },
   "file_extension": ".py",
   "mimetype": "text/x-python",
   "name": "python",
   "nbconvert_exporter": "python",
   "pygments_lexer": "ipython3",
   "version": "3.8.3"
  }
 },
 "nbformat": 4,
 "nbformat_minor": 4
}
